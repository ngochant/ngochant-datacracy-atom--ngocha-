{
  "nbformat": 4,
  "nbformat_minor": 0,
  "metadata": {
    "colab": {
      "name": "#1-ngocha:Task 2.ipynb",
      "provenance": [],
      "authorship_tag": "ABX9TyM04QvccWVq4GueauAdLc3s",
      "include_colab_link": true
    },
    "kernelspec": {
      "name": "python3",
      "display_name": "Python 3"
    },
    "language_info": {
      "name": "python"
    }
  },
  "cells": [
    {
      "cell_type": "markdown",
      "metadata": {
        "id": "view-in-github",
        "colab_type": "text"
      },
      "source": [
        "<a href=\"https://colab.research.google.com/github/ngochant/datacracy-atom--ngocha-/blob/main/_A1_ngocha_Task_2.ipynb\" target=\"_parent\"><img src=\"https://colab.research.google.com/assets/colab-badge.svg\" alt=\"Open In Colab\"/></a>"
      ]
    },
    {
      "cell_type": "code",
      "metadata": {
        "colab": {
          "base_uri": "https://localhost:8080/"
        },
        "id": "Ai-R0iLUQiBX",
        "outputId": "e8485fce-675a-4875-b86f-3bb845320c38"
      },
      "source": [
        "#Python basic\n",
        "print('Hello,world')\n",
        "#ask for their name\n",
        "print('what is your name?')\n",
        "myname=input()\n",
        "print('It is good to meet',myname)\n",
        "print('The length of your name is',len(myname))\n",
        "# ask for their age\n",
        "print('What is your age?')\n",
        "myage = input()\n",
        "print('You will be ' + str(int(myage) + 1) + ' in a year.')"
      ],
      "execution_count": null,
      "outputs": [
        {
          "output_type": "stream",
          "text": [
            "Hello,world\n",
            "what is your name?\n",
            "ha\n",
            "It is good to meet  ha\n",
            "The length of your name is 2\n",
            "What is your age?\n",
            "24\n",
            "You will be 25 in a year.\n"
          ],
          "name": "stdout"
        }
      ]
    },
    {
      "cell_type": "code",
      "metadata": {
        "id": "GhfD-J4hXr6D"
      },
      "source": [
        "#Flow control\n",
        "import random, sys\n",
        "print('ROCK, PAPER, SCISSORS')\n",
        "# These variables keep track of the number of wins, losses, and ties.\n",
        "wins = 0\n",
        "losses = 0\n",
        "ties = 0\n",
        "while True: # The main game loop.\n",
        "  print('%s wins, %s losses, %s ties' % (wins, losses, ties))\n",
        "while True: # The player input loop.\n",
        "  print('Enter your move: (r)ock (p)aper (s)cissors or (q)uit')\n",
        "playerMove = input()\n",
        "if playerMove == 'q':\n",
        "  sys.exit() # Quit the program.\n",
        "if playerMove == 'r' or playerMove == 'p' or playerMove == 's':\n",
        "  break # Break out of the player input loop.\n",
        "print('Type one of r, p, s, or q.')\n",
        "# Display what the player chose:\n",
        "if playerMove == 'r':\n",
        "  print('ROCK versus...')\n",
        "elif playerMove == 'p':\n",
        "  print('PAPER versus...')\n",
        "elif playerMove == 's':\n",
        "  print('SCISSORS versus...')\n",
        "# Display what the computer chose:\n",
        "randomNumber = random.randint(1, 3)\n",
        "if randomNumber == 1:\n",
        "  computerMove = 'r'\n",
        "  print('ROCK')\n",
        "elif randomNumber == 2:\n",
        "  computerMove = 'p'\n",
        "  print('PAPER')\n",
        "elif randomNumber == 3:\n",
        "  computerMove = 's'\n",
        "  print('SCISSORS')\n",
        "# Display and record the win/loss/tie:\n",
        "if playerMove == computerMove:\n",
        "  print('It is a tie!')\n",
        "  ties = ties + 1\n",
        "elif playerMove == 'r' and computerMove == 's':\n",
        "  print('You win!')\n",
        "  wins = wins + 1\n",
        "elif playerMove == 'p' and computerMove == 'r':\n",
        "  print('You win!')\n",
        "  wins = wins + 1\n",
        "elif playerMove == 's' and computerMove == 'p':\n",
        "  print('You win!')\n",
        "  wins = wins + 1\n",
        "elif playerMove == 'r' and computerMove == 'p':\n",
        "  print('You lose!')\n",
        "  losses = losses + 1\n",
        "elif playerMove == 'p' and computerMove == 's':\n",
        "  print('You lose!')\n",
        "  losses = losses + 1\n",
        "elif playerMove == 's' and computerMove == 'r':\n",
        "  print('You lose!')\n",
        "  losses = losses + 1"
      ],
      "execution_count": null,
      "outputs": []
    },
    {
      "cell_type": "code",
      "metadata": {
        "id": "yQemakrobInP"
      },
      "source": [
        "#Functions\n",
        "import time, sys\n",
        "indent = 0 # How many spaces to indent.\n",
        "indentIncreasing = True # Whether the indentation is increasing or not.\n",
        "try:\n",
        "  while True: # The main program loop.\n",
        "    print(' ' * indent, end='')\n",
        "    print('********')\n",
        "    time.sleep(0.1) # Pause for 1/10 of a second.\n",
        "    if indentIncreasing:\n",
        "      # Increase the number of spaces:\n",
        "      indent = indent + 1\n",
        "      if indent == 10:\n",
        "        # Change direction:\n",
        "        indentIncreasing = False\n",
        "    else:\n",
        "      # Decrease the number of spaces:\n",
        "      indent = indent - 1\n",
        "      if indent == 0:\n",
        "        # Change direction:\n",
        "        indentIncreasing = True\n",
        "except KeyboardInterrupt:\n",
        "  sys.exit()\n"
      ],
      "execution_count": null,
      "outputs": []
    },
    {
      "cell_type": "code",
      "metadata": {
        "id": "LMInqgXobxgj"
      },
      "source": [
        "#list\n",
        "# Conway's Game of Life\n",
        "import random, time, copy\n",
        "WIDTH = 60\n",
        "HEIGHT = 20\n",
        "# Create a list of list for the cells:\n",
        "nextCells = []\n",
        "for x in range(WIDTH):\n",
        "  column = [] # Create a new column.\n",
        "  for y in range(HEIGHT):\n",
        "    if random.randint(0, 1) == 0:\n",
        "      column.append('#') # Add a living cell.\n",
        "    else:\n",
        "      column.append(' ') # Add a dead cell.\n",
        "  nextCells.append(column) # nextCells is a list of column lists.\n",
        "while True: # Main program loop.\n",
        "  print('\\n\\n\\n\\n\\n') # Separate each step with newlines.\n",
        "  currentCells = copy.deepcopy(nextCells)\n",
        "  # Print currentCells on the screen:\n",
        "  for y in range(HEIGHT):\n",
        "    for x in range(WIDTH):\n",
        "      print(currentCells[x][y], end='') # Print the # or space.\n",
        "    print() # Print a newline at the end of the row.\n",
        "# Calculate the next step's cells based on current step's cells:\n",
        "  for x in range(WIDTH):\n",
        "    for y in range(HEIGHT):\n",
        "      # Get neighboring coordinates:\n",
        "      # `% WIDTH` ensures leftCoord is always between 0 and WIDTH - 1\n",
        "      leftCoord = (x - 1) % WIDTH\n",
        "      rightCoord = (x + 1) % WIDTH\n",
        "      aboveCoord = (y - 1) % HEIGHT\n",
        "      belowCoord = (y + 1) % HEIGHT\n",
        "      # Count number of living neighbors:\n",
        "      numNeighbors = 0\n",
        "      if currentCells[leftCoord][aboveCoord] == '#':\n",
        "        numNeighbors += 1 # Top-left neighbor is alive.\n",
        "      if currentCells[x][aboveCoord] == '#':\n",
        "        numNeighbors += 1 # Top neighbor is alive.\n",
        "      if currentCells[rightCoord][aboveCoord] == '#':\n",
        "        numNeighbors += 1 # Top-right neighbor is alive.\n",
        "      if currentCells[leftCoord][y] == '#':\n",
        "        numNeighbors += 1 # Left neighbor is alive.\n",
        "      if currentCells[rightCoord][y] == '#':\n",
        "        numNeighbors += 1 # Right neighbor is alive.\n",
        "      if currentCells[leftCoord][belowCoord] == '#':\n",
        "        numNeighbors += 1 # Bottom-left neighbor is alive.\n",
        "      if currentCells[x][belowCoord] == '#':\n",
        "        numNeighbors += 1 # Bottom neighbor is alive.\n",
        "      if currentCells[rightCoord][belowCoord] == '#':\n",
        "        numNeighbors += 1 # Bottom-right neighbor is alive.\n",
        "      # Set cell based on Conway's Game of Life rules:\n",
        "      if currentCells[x][y] == '#' and (numNeighbors == 2 or numNeighbors == 3):\n",
        "        # Living cells with 2 or 3 neighbors stay alive:\n",
        "        nextCells[x][y] = '#'\n",
        "      elif currentCells[x][y] == ' ' and numNeighbors == 3:\n",
        "        # Dead cells with 3 neighbors become alive:\n",
        "        nextCells[x][y] = '#'\n",
        "      else:\n",
        "        # Everything else dies or stays dead:\n",
        "        nextCells[x][y] = ' '\n",
        "time.sleep(1) # Add a 1-second pause to reduce flickering"
      ],
      "execution_count": null,
      "outputs": []
    },
    {
      "cell_type": "code",
      "metadata": {
        "id": "-LcJBRlCfTrT"
      },
      "source": [
        "#Dictionaries & Structuring Data - Tic-Tac-Toe Board\n",
        "theBoard = {'top-L': ' ', 'top-M': ' ', 'top-R': ' ', 'mid-L': ' ', 'mid-M': ' ', 'mid-R': ' ', 'low-L': ' ', 'low-M': ' ', 'low-R': ' '}\n",
        "\n",
        "def printBoard(board):\n",
        "    print(board['top-L'] + '|' + board['top-M'] + '|' + board['top-R'])\n",
        "    print('-+-+-')\n",
        "    print(board['mid-L'] + '|' + board['mid-M'] + '|' + board['mid-R'])\n",
        "    print('-+-+-')\n",
        "    print(board['low-L'] + '|' + board['low-M'] + '|' + board['low-R'])\n",
        "turn = 'X'\n",
        "for i in range(9):\n",
        "    printBoard(theBoard)\n",
        "    print('Turn for ' + turn + '. Move on which space?')\n",
        "    move = input()\n",
        "    theBoard[move] = turn\n",
        "    if turn == 'X':\n",
        "        turn = 'O'\n",
        "    else:\n",
        "        turn = 'X'\n",
        "printBoard(theBoard)"
      ],
      "execution_count": null,
      "outputs": []
    }
  ]
}